{
 "cells": [
  {
   "cell_type": "markdown",
   "metadata": {},
   "source": [
    "# Analyze Results"
   ]
  },
  {
   "cell_type": "code",
   "execution_count": 75,
   "metadata": {},
   "outputs": [],
   "source": [
    "library(tidyverse)"
   ]
  },
  {
   "cell_type": "code",
   "execution_count": 76,
   "metadata": {},
   "outputs": [],
   "source": [
    "options(repr.plot.height=4)"
   ]
  },
  {
   "cell_type": "code",
   "execution_count": 77,
   "metadata": {},
   "outputs": [
    {
     "name": "stderr",
     "output_type": "stream",
     "text": [
      "Parsed with column specification:\n",
      "cols(\n",
      "  DataSet = col_character(),\n",
      "  Partition = col_integer(),\n",
      "  Algorithm = col_character(),\n",
      "  Succeeded = col_character(),\n",
      "  BuildTime = col_double(),\n",
      "  TestTime = col_double(),\n",
      "  NUsers = col_integer(),\n",
      "  NAttempted = col_integer(),\n",
      "  NGood = col_integer(),\n",
      "  Coverage = col_double(),\n",
      "  RMSE.ByUser = col_double(),\n",
      "  RMSE.ByRating = col_double(),\n",
      "  Predict.nDCG = col_double(),\n",
      "  TopN.ActualLength = col_double(),\n",
      "  nDCG = col_double(),\n",
      "  MRR = col_double(),\n",
      "  MAP = col_double()\n",
      ")\n"
     ]
    },
    {
     "name": "stdout",
     "output_type": "stream",
     "text": [
      "# A tibble: 50 x 17\n",
      "   DataSet Partition Algorithm Succeeded BuildTime TestTime NUsers NAttempted\n",
      "     <chr>     <int>     <chr>     <chr>     <dbl>    <dbl>  <int>      <int>\n",
      " 1   ML-1M         3   Popular         Y     0.670    7.269      0          0\n",
      " 2   ML-1M         5   Popular         Y     0.729    7.251      0          0\n",
      " 3   ML-1M         4   Popular         Y     0.900    7.025      0          0\n",
      " 4 ML-100K         1  ItemItem         Y     4.223    6.379    189        945\n",
      " 5   ML-1M         4  PersMean         Y     1.425    7.322   1208       6040\n",
      " 6   ML-1M         3  PersMean         Y     1.541    7.254   1208       6040\n",
      " 7   ML-1M         5  PersMean         Y     1.462    7.304   1208       6040\n",
      " 8 ML-100K         1   Popular         Y     0.069    0.723      0          0\n",
      " 9   ML-1M         4    Custom         Y     0.956    7.976   1208       6040\n",
      "10   ML-1M         3    Custom         Y     0.818    9.224   1208       6040\n",
      "# ... with 40 more rows, and 9 more variables: NGood <int>, Coverage <dbl>,\n",
      "#   RMSE.ByUser <dbl>, RMSE.ByRating <dbl>, Predict.nDCG <dbl>,\n",
      "#   TopN.ActualLength <dbl>, nDCG <dbl>, MRR <dbl>, MAP <dbl>\n"
     ]
    }
   ],
   "source": [
    "results = read_csv(\"build/eval-results.csv\")\n",
    "print(results)"
   ]
  },
  {
   "cell_type": "markdown",
   "metadata": {},
   "source": [
    "## Basic Results"
   ]
  },
  {
   "cell_type": "code",
   "execution_count": 78,
   "metadata": {},
   "outputs": [
    {
     "data": {
      "text/html": [
       "<table>\n",
       "<thead><tr><th scope=col>DataSet</th><th scope=col>Algorithm</th><th scope=col>n</th><th scope=col>nDCG</th><th scope=col>Rank.nDCG</th><th scope=col>RMSE</th><th scope=col>MAP</th></tr></thead>\n",
       "<tbody>\n",
       "\t<tr><td>ML-100K    </td><td>BPR        </td><td>5          </td><td>0.020274571</td><td>0.9297879  </td><td>3.1146888  </td><td>0.019246623</td></tr>\n",
       "\t<tr><td>ML-100K    </td><td>Custom     </td><td>5          </td><td>0.046183159</td><td>0.9609040  </td><td>0.9860676  </td><td>0.016992542</td></tr>\n",
       "\t<tr><td>ML-100K    </td><td>ItemItem   </td><td>5          </td><td>0.063334731</td><td>0.9639302  </td><td>0.9426970  </td><td>0.035797985</td></tr>\n",
       "\t<tr><td>ML-100K    </td><td>PersMean   </td><td>5          </td><td>0.046183159</td><td>0.9609040  </td><td>0.9860676  </td><td>0.016992542</td></tr>\n",
       "\t<tr><td>ML-100K    </td><td>Popular    </td><td>5          </td><td>0.186187972</td><td>      NaN  </td><td>       NA  </td><td>0.132334611</td></tr>\n",
       "\t<tr><td>ML-1M      </td><td>BPR        </td><td>5          </td><td>0.008341754</td><td>0.9352251  </td><td>3.0115275  </td><td>0.009253842</td></tr>\n",
       "\t<tr><td>ML-1M      </td><td>Custom     </td><td>5          </td><td>0.030904533</td><td>0.9642051  </td><td>0.9391222  </td><td>0.011459371</td></tr>\n",
       "\t<tr><td>ML-1M      </td><td>ItemItem   </td><td>5          </td><td>0.042480738</td><td>0.9702007  </td><td>0.8848611  </td><td>0.023649507</td></tr>\n",
       "\t<tr><td>ML-1M      </td><td>PersMean   </td><td>5          </td><td>0.030904533</td><td>0.9642051  </td><td>0.9391222  </td><td>0.011459371</td></tr>\n",
       "\t<tr><td>ML-1M      </td><td>Popular    </td><td>5          </td><td>0.130618984</td><td>      NaN  </td><td>       NA  </td><td>0.105693575</td></tr>\n",
       "</tbody>\n",
       "</table>\n"
      ],
      "text/latex": [
       "\\begin{tabular}{r|lllllll}\n",
       " DataSet & Algorithm & n & nDCG & Rank.nDCG & RMSE & MAP\\\\\n",
       "\\hline\n",
       "\t ML-100K     & BPR         & 5           & 0.020274571 & 0.9297879   & 3.1146888   & 0.019246623\\\\\n",
       "\t ML-100K     & Custom      & 5           & 0.046183159 & 0.9609040   & 0.9860676   & 0.016992542\\\\\n",
       "\t ML-100K     & ItemItem    & 5           & 0.063334731 & 0.9639302   & 0.9426970   & 0.035797985\\\\\n",
       "\t ML-100K     & PersMean    & 5           & 0.046183159 & 0.9609040   & 0.9860676   & 0.016992542\\\\\n",
       "\t ML-100K     & Popular     & 5           & 0.186187972 &       NaN   &        NA   & 0.132334611\\\\\n",
       "\t ML-1M       & BPR         & 5           & 0.008341754 & 0.9352251   & 3.0115275   & 0.009253842\\\\\n",
       "\t ML-1M       & Custom      & 5           & 0.030904533 & 0.9642051   & 0.9391222   & 0.011459371\\\\\n",
       "\t ML-1M       & ItemItem    & 5           & 0.042480738 & 0.9702007   & 0.8848611   & 0.023649507\\\\\n",
       "\t ML-1M       & PersMean    & 5           & 0.030904533 & 0.9642051   & 0.9391222   & 0.011459371\\\\\n",
       "\t ML-1M       & Popular     & 5           & 0.130618984 &       NaN   &        NA   & 0.105693575\\\\\n",
       "\\end{tabular}\n"
      ],
      "text/markdown": [
       "\n",
       "DataSet | Algorithm | n | nDCG | Rank.nDCG | RMSE | MAP | \n",
       "|---|---|---|---|---|---|---|---|---|---|\n",
       "| ML-100K     | BPR         | 5           | 0.020274571 | 0.9297879   | 3.1146888   | 0.019246623 | \n",
       "| ML-100K     | Custom      | 5           | 0.046183159 | 0.9609040   | 0.9860676   | 0.016992542 | \n",
       "| ML-100K     | ItemItem    | 5           | 0.063334731 | 0.9639302   | 0.9426970   | 0.035797985 | \n",
       "| ML-100K     | PersMean    | 5           | 0.046183159 | 0.9609040   | 0.9860676   | 0.016992542 | \n",
       "| ML-100K     | Popular     | 5           | 0.186187972 |       NaN   |        NA   | 0.132334611 | \n",
       "| ML-1M       | BPR         | 5           | 0.008341754 | 0.9352251   | 3.0115275   | 0.009253842 | \n",
       "| ML-1M       | Custom      | 5           | 0.030904533 | 0.9642051   | 0.9391222   | 0.011459371 | \n",
       "| ML-1M       | ItemItem    | 5           | 0.042480738 | 0.9702007   | 0.8848611   | 0.023649507 | \n",
       "| ML-1M       | PersMean    | 5           | 0.030904533 | 0.9642051   | 0.9391222   | 0.011459371 | \n",
       "| ML-1M       | Popular     | 5           | 0.130618984 |       NaN   |        NA   | 0.105693575 | \n",
       "\n",
       "\n"
      ],
      "text/plain": [
       "   DataSet Algorithm n nDCG        Rank.nDCG RMSE      MAP        \n",
       "1  ML-100K BPR       5 0.020274571 0.9297879 3.1146888 0.019246623\n",
       "2  ML-100K Custom    5 0.046183159 0.9609040 0.9860676 0.016992542\n",
       "3  ML-100K ItemItem  5 0.063334731 0.9639302 0.9426970 0.035797985\n",
       "4  ML-100K PersMean  5 0.046183159 0.9609040 0.9860676 0.016992542\n",
       "5  ML-100K Popular   5 0.186187972       NaN        NA 0.132334611\n",
       "6  ML-1M   BPR       5 0.008341754 0.9352251 3.0115275 0.009253842\n",
       "7  ML-1M   Custom    5 0.030904533 0.9642051 0.9391222 0.011459371\n",
       "8  ML-1M   ItemItem  5 0.042480738 0.9702007 0.8848611 0.023649507\n",
       "9  ML-1M   PersMean  5 0.030904533 0.9642051 0.9391222 0.011459371\n",
       "10 ML-1M   Popular   5 0.130618984       NaN        NA 0.105693575"
      ]
     },
     "metadata": {},
     "output_type": "display_data"
    }
   ],
   "source": [
    "basic_results = results %>%\n",
    "    # filter(is.na(Rate), is.na(Reg)) %>%\n",
    "    group_by(DataSet, Algorithm) %>%\n",
    "    summarize(n=n(), nDCG=mean(nDCG), Rank.nDCG=mean(Predict.nDCG), RMSE=mean(RMSE.ByRating), MAP=mean(MAP))\n",
    "basic_results"
   ]
  },
  {
   "cell_type": "code",
   "execution_count": 81,
   "metadata": {},
   "outputs": [
    {
     "data": {},
     "metadata": {},
     "output_type": "display_data"
    },
    {
     "data": {
      "image/png": "[encoded data removed]",
      "text/plain": [
       "plot without title"
      ]
     },
     "metadata": {},
     "output_type": "display_data",
     "source": "R display func"
    }
   ],
   "source": [
    "ggplot(basic_results) +\n",
    "    aes(x=Algorithm, y=nDCG) +\n",
    "    geom_bar(stat='identity') +\n",
    "    facet_wrap(~ DataSet, scales=\"free_y\")"
   ]
  },
  {
   "cell_type": "markdown",
   "metadata": {},
   "source": [
    "## BPR Sampling\n",
    "\n",
    "We sampled the learning rate and regularization term."
   ]
  },
  {
   "cell_type": "code",
   "execution_count": 80,
   "metadata": {},
   "outputs": [
    {
     "ename": "ERROR",
     "evalue": "Error in filter_impl(.data, quo): Evaluation error: object 'Rate' not found.\n",
     "execution_count": 80,
     "output_type": "error",
     "traceback": [
      "Error in filter_impl(.data, quo): Evaluation error: object 'Rate' not found.\nTraceback:\n",
      "1. results %>% filter(!is.na(Rate), !is.na(Reg)) %>% group_by(Rate, \n .     Reg) %>% summarize(n = n(), nDCG = mean(nDCG), Rank.nDCG = mean(Predict.nDCG), \n .     RMSE = mean(RMSE.ByRating), MAP = mean(MAP))",
      "2. withVisible(eval(quote(`_fseq`(`_lhs`)), env, env))",
      "3. eval(quote(`_fseq`(`_lhs`)), env, env)",
      "4. eval(quote(`_fseq`(`_lhs`)), env, env)",
      "5. `_fseq`(`_lhs`)",
      "6. freduce(value, `_function_list`)",
      "7. function_list[[i]](value)",
      "8. filter(., !is.na(Rate), !is.na(Reg))",
      "9. filter.tbl_df(., !is.na(Rate), !is.na(Reg))",
      "10. filter_impl(.data, quo)"
     ]
    }
   ],
   "source": [
    "bpr_samp_results = results %>%\n",
    "    filter(!is.na(Rate), !is.na(Reg)) %>%\n",
    "    group_by(Rate, Reg) %>%\n",
    "    summarize(n=n(), nDCG=mean(nDCG), Rank.nDCG=mean(Predict.nDCG), RMSE=mean(RMSE.ByRating), MAP=mean(MAP))\n",
    "print(bpr_samp_results %>% arrange(-nDCG))"
   ]
  },
  {
   "cell_type": "code",
   "execution_count": null,
   "metadata": {},
   "outputs": [],
   "source": [
    "ggplot(bpr_samp_results) +\n",
    "    aes(x=Rate, y=Reg, color=nDCG) +\n",
    "    geom_point() +\n",
    "    scale_x_log10() + scale_y_log10()"
   ]
  },
  {
   "cell_type": "code",
   "execution_count": null,
   "metadata": {},
   "outputs": [],
   "source": []
  }
 ],
 "metadata": {
  "kernelspec": {
   "display_name": "R",
   "language": "R",
   "name": "ir"
  },
  "language_info": {
   "codemirror_mode": "r",
   "file_extension": ".r",
   "mimetype": "text/x-r-source",
   "name": "R",
   "pygments_lexer": "r",
   "version": "3.4.2"
  }
 },
 "nbformat": 4,
 "nbformat_minor": 2
}
